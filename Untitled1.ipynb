{
  "cells": [
    {
      "cell_type": "code",
      "source": [
        "from azureml.core import Workspace, Experiment\n",
        "ws = Workspace.from_config()"
      ],
      "outputs": [],
      "execution_count": 1,
      "metadata": {},
      "id": "a93235f4"
    },
    {
      "cell_type": "code",
      "source": [
        "exp = Experiment(workspace=ws, name=\"udacity-project\")\n",
        "\n",
        "run = exp.start_logging()"
      ],
      "outputs": [],
      "execution_count": 2,
      "metadata": {},
      "id": "8ea6e376"
    },
    {
      "cell_type": "code",
      "source": [
        "from azureml.core.compute import ComputeTarget, AmlCompute\n",
        "from azureml.core.compute_target import ComputeTargetException\n",
        "\n",
        "# TODO: Create compute cluster\n",
        "# Use vm_size = \"Standard_D2_V2\" in your provisioning configuration.\n",
        "# max_nodes should be no greater than 4.\n",
        "\n",
        "# Choose a name for your CPU cluster\n",
        "cpu_cluster_name = \"UdacityProject2\"\n",
        "\n",
        "# Verify that cluster does not exist already\n",
        "try:\n",
        "    cpu_cluster = ComputeTarget(workspace=ws, name=cpu_cluster_name)\n",
        "    print('Found existing cluster')\n",
        "except ComputeTargetException:\n",
        "    compute_config = AmlCompute.provisioning_configuration(vm_size='STANDARD_D2_V2',\n",
        "                                                           max_nodes=4)\n",
        "    cpu_cluster = ComputeTarget.create(ws, cpu_cluster_name, compute_config)\n",
        "\n",
        "cpu_cluster.wait_for_completion(show_output=True)"
      ],
      "outputs": [
        {
          "output_type": "stream",
          "name": "stdout",
          "text": [
            "Found existing cluster, use it.\n",
            "Succeeded\n",
            "AmlCompute wait for completion finished\n",
            "\n",
            "Minimum number of nodes requested have been provisioned\n"
          ]
        }
      ],
      "execution_count": 3,
      "metadata": {},
      "id": "3fcf0a5b"
    },
    {
      "cell_type": "code",
      "source": [
        "from azureml.data.dataset_factory import TabularDatasetFactory\n",
        "\n",
        "# Create TabularDataset using TabularDatasetFactory\n",
        "# Data is available at: \n",
        "# \"https://automlsamplenotebookdata.blob.core.windows.net/automl-sample-notebook-data/bankmarketing_train.csv\"\n",
        "path = 'https://automlsamplenotebookdata.blob.core.windows.net/automl-sample-notebook-data/bankmarketing_train.csv'\n",
        "autods = TabularDatasetFactory.from_delimited_files(path = path)"
      ],
      "outputs": [],
      "execution_count": 4,
      "metadata": {},
      "id": "e774136d"
    },
    {
      "cell_type": "code",
      "source": [
        "from train import clean_data\n",
        "\n",
        "# Use the clean_data function to clean your data.\n",
        "ds = clean_data(autods)"
      ],
      "outputs": [],
      "execution_count": 8,
      "metadata": {},
      "id": "9702440f"
    },
    {
      "cell_type": "code",
      "source": [
        "# x = ds\n",
        "# y = x.pop('y_cleaned')"
      ],
      "outputs": [],
      "execution_count": 9,
      "metadata": {},
      "id": "fe7d4e32"
    },
    {
      "cell_type": "code",
      "source": [
        "# training_data, validation_data = ds.random_split(percentage=0.8, seed=223)\n",
        "# label_column_name = \"y_cleaned\"\n",
        "\n",
        "from sklearn.model_selection import train_test_split\n",
        "\n",
        "train, test = train_test_split(ds, test_size=0.2, random_state=11)\n"
      ],
      "outputs": [],
      "execution_count": 9,
      "metadata": {},
      "id": "ec2d6db3"
    },
    {
      "cell_type": "code",
      "source": [
        "# from sklearn.model_selection import train_test_split\n",
        "\n",
        "# x_train, x_test, y_train, y_test = train_test_split(x,y, test_size=0.2, random_state=11)"
      ],
      "outputs": [],
      "execution_count": 10,
      "metadata": {},
      "id": "48f7a2a0"
    },
    {
      "cell_type": "code",
      "source": [
        "label_column_name = \"y_cleaned\""
      ],
      "outputs": [],
      "execution_count": 11,
      "metadata": {},
      "id": "e21ce171"
    },
    {
      "cell_type": "code",
      "source": [
        "from azureml.train.automl import AutoMLConfig\n",
        "\n",
        "# Set parameters for AutoMLConfig\n",
        "# NOTE: DO NOT CHANGE THE experiment_timeout_minutes PARAMETER OR YOUR INSTANCE WILL TIME OUT.\n",
        "# If you wish to run the experiment longer, you will need to run this notebook in your own\n",
        "# Azure tenant, which will incur personal costs.\n",
        "automl_settings = {\n",
        "    \"n_cross_validations\": 5,\n",
        "    \"primary_metric\": \"average_precision_score_weighted\",\n",
        "    \"verbosity\": logging.INFO,\n",
        "    \"enable_stack_ensemble\": False,\n",
        "}\n",
        "\n",
        "automl_config = AutoMLConfig(\n",
        "    task=\"classification\",\n",
        "    debug_log=\"automl_errors.log\",\n",
        "    training_data=train,\n",
        "    label_column_name=label_column_name,\n",
        "    **automl_settings)\n",
        "\n",
        "# automl_config = AutoMLConfig(\n",
        "#     experiment_timeout_minutes=30,\n",
        "#     task='Classification',\n",
        "#     primary_metric='accuracy',\n",
        "#     training_data=x_train,\n",
        "#     label_column_name='y_cleaned',\n",
        "#     n_cross_validations=5)"
      ],
      "outputs": [],
      "execution_count": 12,
      "metadata": {},
      "id": "1eae501a"
    },
    {
      "cell_type": "code",
      "source": [
        "# Submit your automl run\n",
        "\n",
        "run = exp.submit(config = automl_config, show_output = True)"
      ],
      "outputs": [
        {
          "output_type": "stream",
          "name": "stdout",
          "text": [
            "No run_configuration provided, running on local with default configuration\n",
            "Running in the active local environment.\n"
          ]
        },
        {
          "output_type": "display_data",
          "data": {
            "text/html": "<table style=\"width:100%\"><tr><th>Experiment</th><th>Id</th><th>Type</th><th>Status</th><th>Details Page</th><th>Docs Page</th></tr><tr><td>udacity-project</td><td>AutoML_5d43d9b0-a3bc-4c45-be47-a16cc0145be6</td><td>automl</td><td>Preparing</td><td><a href=\"https://ml.azure.com/runs/AutoML_5d43d9b0-a3bc-4c45-be47-a16cc0145be6?wsid=/subscriptions/cdbe0b43-92a0-4715-838a-f2648cc7ad21/resourcegroups/aml-quickstarts-149493/workspaces/quick-starts-ws-149493&amp;tid=660b3398-b80e-49d2-bc5b-ac1dc93b5254\" target=\"_blank\" rel=\"noopener\">Link to Azure Machine Learning studio</a></td><td><a href=\"https://docs.microsoft.com/en-us/python/api/overview/azure/ml/intro?view=azure-ml-py\" target=\"_blank\" rel=\"noopener\">Link to Documentation</a></td></tr></table>",
            "text/plain": "<IPython.core.display.HTML object>"
          },
          "metadata": {}
        },
        {
          "output_type": "stream",
          "name": "stdout",
          "text": [
            "Current status: DatasetEvaluation. Gathering dataset statistics.\n",
            "Current status: FeaturesGeneration. Generating features for the dataset.\n",
            "Current status: DatasetFeaturization. Beginning to fit featurizers and featurize the dataset.\n",
            "Current status: DatasetFeaturizationCompleted. Completed fit featurizers and featurizing the dataset.\n",
            "Current status: DatasetBalancing. Performing class balancing sweeping\n",
            "Current status: DatasetCrossValidationSplit. Generating individually featurized CV splits.\n",
            "\n",
            "****************************************************************************************************\n",
            "DATA GUARDRAILS: \n",
            "\n",
            "TYPE:         Class balancing detection\n",
            "STATUS:       ALERTED\n",
            "DESCRIPTION:  To decrease model bias, please cancel the current run and fix balancing problem.\n",
            "              Learn more about imbalanced data: https://aka.ms/AutomatedMLImbalancedData\n",
            "DETAILS:      Imbalanced data can lead to a falsely perceived positive effect of a model's accuracy because the input data has bias towards one class.\n",
            "+---------------------------------+---------------------------------+--------------------------------------+\n",
            "|Size of the smallest class       |Name/Label of the smallest class |Number of samples in the training data|\n",
            "+=================================+=================================+======================================+\n",
            "|2974                             |1                                |26360                                 |\n",
            "+---------------------------------+---------------------------------+--------------------------------------+\n",
            "\n",
            "****************************************************************************************************\n",
            "\n",
            "TYPE:         Missing feature values imputation\n",
            "STATUS:       PASSED\n",
            "DESCRIPTION:  No feature missing values were detected in the training data.\n",
            "              Learn more about missing value imputation: https://aka.ms/AutomatedMLFeaturization\n",
            "\n",
            "****************************************************************************************************\n",
            "\n",
            "TYPE:         High cardinality feature detection\n",
            "STATUS:       PASSED\n",
            "DESCRIPTION:  Your inputs were analyzed, and no high cardinality features were detected.\n",
            "              Learn more about high cardinality feature handling: https://aka.ms/AutomatedMLFeaturization\n",
            "\n",
            "****************************************************************************************************\n",
            "Current status: ModelSelection. Beginning model selection.\n",
            "\n",
            "****************************************************************************************************\n",
            "ITERATION: The iteration being evaluated.\n",
            "PIPELINE: A summary description of the pipeline being evaluated.\n",
            "DURATION: Time taken for the current iteration.\n",
            "METRIC: The result of computing score on the fitted pipeline.\n",
            "BEST: The best observed score thus far.\n",
            "****************************************************************************************************\n",
            "\n",
            " ITERATION   PIPELINE                                       DURATION      METRIC      BEST\n",
            "         0   MaxAbsScaler LightGBM                          0:00:31       0.9562    0.9562\n",
            "         1   MaxAbsScaler XGBoostClassifier                 0:00:37       0.9567    0.9567\n",
            "         2   MaxAbsScaler ExtremeRandomTrees                0:00:26       0.9212    0.9567\n",
            "         3   MaxAbsScaler ExtremeRandomTrees                0:00:28       0.9350    0.9567\n",
            "         4   MaxAbsScaler ExtremeRandomTrees                0:00:28       0.9103    0.9567\n",
            "         5   MaxAbsScaler RandomForest                      0:00:24       0.9265    0.9567\n",
            "         6   MaxAbsScaler ExtremeRandomTrees                0:00:28       0.9315    0.9567\n",
            "         7   MaxAbsScaler RandomForest                      0:00:28       0.9327    0.9567\n",
            "         8   MaxAbsScaler RandomForest                      0:00:26       0.9245    0.9567\n",
            "         9   StandardScalerWrapper XGBoostClassifier        0:00:28       0.9516    0.9567\n",
            "        10   MaxAbsScaler SGD                               0:00:24       0.9450    0.9567\n",
            "        11   MaxAbsScaler ExtremeRandomTrees                0:00:25       0.9158    0.9567\n",
            "        12   MaxAbsScaler RandomForest                      0:00:24       0.9319    0.9567\n",
            "        13   MaxAbsScaler RandomForest                      0:00:25       0.9253    0.9567\n",
            "        14   MaxAbsScaler ExtremeRandomTrees                0:00:28       0.9069    0.9567\n",
            "        15   SparseNormalizer ExtremeRandomTrees            0:00:27       0.9294    0.9567\n",
            "        16   MaxAbsScaler ExtremeRandomTrees                0:00:26       0.9195    0.9567\n",
            "        17   MaxAbsScaler LogisticRegression                0:00:27       0.9452    0.9567\n",
            "        18   TruncatedSVDWrapper XGBoostClassifier          0:00:46       0.9516    0.9567\n",
            "        19   MaxAbsScaler GradientBoosting                  0:00:37       0.9456    0.9567\n",
            "        20   StandardScalerWrapper LogisticRegression       0:00:53       0.9460    0.9567\n",
            "        21   MaxAbsScaler LightGBM                          0:00:25       0.9454    0.9567\n",
            "        22   TruncatedSVDWrapper RandomForest               0:00:56       0.9450    0.9567\n",
            "        23   StandardScalerWrapper LightGBM                 0:00:37       0.9565    0.9567\n",
            "        24   MaxAbsScaler LightGBM                          0:00:31       0.9486    0.9567\n",
            "        25   StandardScalerWrapper XGBoostClassifier        0:00:25       0.7999    0.9567\n",
            "        26   StandardScalerWrapper LogisticRegression       0:00:27       0.9465    0.9567\n",
            "        27   StandardScalerWrapper LightGBM                 0:00:29       0.9456    0.9567\n",
            "        28   StandardScalerWrapper LogisticRegression       0:00:29       0.9464    0.9567\n",
            "        29   MaxAbsScaler LightGBM                          0:00:31       0.9521    0.9567\n",
            "        30   VotingEnsemble                                 0:00:33       0.9575    0.9575\n",
            "Stopping criteria reached at iteration 31. Ending experiment.\n",
            "****************************************************************************************************\n",
            "Current status: BestRunExplainModel. Best run model explanations started\n",
            "Current status: ModelExplanationDataSetSetup. Model explanations data setup completed\n",
            "Current status: PickSurrogateModel. Choosing LightGBM as the surrogate model for explanations\n",
            "Current status: EngineeredFeatureExplanations. Computation of engineered features started\n",
            "Current status: EngineeredFeatureExplanations. Computation of engineered features completed\n",
            "Current status: RawFeaturesExplanations. Computation of raw features started\n",
            "Current status: RawFeaturesExplanations. Computation of raw features completed\n",
            "Current status: BestRunExplainModel. Best run model explanations completed\n",
            "****************************************************************************************************\n"
          ]
        }
      ],
      "execution_count": 13,
      "metadata": {},
      "id": "aec62c7f"
    },
    {
      "cell_type": "code",
      "source": [
        "# Retrieve and save your best automl model.\n",
        "\n",
        "best_run, best_model = run.get_output()\n",
        "best_model"
      ],
      "outputs": [
        {
          "output_type": "execute_result",
          "execution_count": 15,
          "data": {
            "text/plain": "Pipeline(memory=None,\n         steps=[('datatransformer',\n                 DataTransformer(enable_dnn=False, enable_feature_sweeping=True, feature_sweeping_config={}, feature_sweeping_timeout=86400, featurization_config=None, force_text_dnn=False, is_cross_validation=True, is_onnx_compatible=False, observer=None, task='classification', working_dir='/mnt/batch/tasks/shared/LS_root/mount...\n    timeseries_param_dict=None,\n    gpu_training_param_dict={'processing_unit_type': 'cpu'}\n), random_state=0, reg_alpha=1.4583333333333335, reg_lambda=1.4583333333333335, subsample=1, tree_method='auto'))], verbose=False))], flatten_transform=None, weights=[0.3333333333333333, 0.1111111111111111, 0.3333333333333333, 0.1111111111111111, 0.1111111111111111]))],\n         verbose=False)"
          },
          "metadata": {}
        }
      ],
      "execution_count": 15,
      "metadata": {},
      "id": "48a8d9ed"
    },
    {
      "cell_type": "code",
      "source": [
        "best_run"
      ],
      "outputs": [
        {
          "output_type": "execute_result",
          "execution_count": 16,
          "data": {
            "text/html": "<table style=\"width:100%\"><tr><th>Experiment</th><th>Id</th><th>Type</th><th>Status</th><th>Details Page</th><th>Docs Page</th></tr><tr><td>udacity-project</td><td>AutoML_5d43d9b0-a3bc-4c45-be47-a16cc0145be6_30</td><td></td><td>Completed</td><td><a href=\"https://ml.azure.com/runs/AutoML_5d43d9b0-a3bc-4c45-be47-a16cc0145be6_30?wsid=/subscriptions/cdbe0b43-92a0-4715-838a-f2648cc7ad21/resourcegroups/aml-quickstarts-149493/workspaces/quick-starts-ws-149493&amp;tid=660b3398-b80e-49d2-bc5b-ac1dc93b5254\" target=\"_blank\" rel=\"noopener\">Link to Azure Machine Learning studio</a></td><td><a href=\"https://docs.microsoft.com/en-us/python/api/azureml-core/azureml.core.run.Run?view=azure-ml-py\" target=\"_blank\" rel=\"noopener\">Link to Documentation</a></td></tr></table>",
            "text/plain": "Run(Experiment: udacity-project,\nId: AutoML_5d43d9b0-a3bc-4c45-be47-a16cc0145be6_30,\nType: None,\nStatus: Completed)"
          },
          "metadata": {}
        }
      ],
      "execution_count": 16,
      "metadata": {},
      "id": "74c7b72a"
    },
    {
      "cell_type": "code",
      "source": [],
      "outputs": [],
      "execution_count": null,
      "metadata": {},
      "id": "469e96fd"
    }
  ],
  "metadata": {
    "kernelspec": {
      "name": "python3-azureml",
      "language": "python",
      "display_name": "Python 3.6 - AzureML"
    },
    "language_info": {
      "name": "python",
      "version": "3.6.9",
      "mimetype": "text/x-python",
      "codemirror_mode": {
        "name": "ipython",
        "version": 3
      },
      "pygments_lexer": "ipython3",
      "nbconvert_exporter": "python",
      "file_extension": ".py"
    },
    "kernel_info": {
      "name": "python3-azureml"
    },
    "nteract": {
      "version": "nteract-front-end@1.0.0"
    }
  },
  "nbformat": 4,
  "nbformat_minor": 5
}